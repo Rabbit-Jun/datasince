{
 "cells": [
  {
   "cell_type": "code",
   "execution_count": 4,
   "metadata": {},
   "outputs": [
    {
     "ename": "ModuleNotFoundError",
     "evalue": "No module named 'pandas'",
     "output_type": "error",
     "traceback": [
      "\u001b[1;31m---------------------------------------------------------------------------\u001b[0m",
      "\u001b[1;31mModuleNotFoundError\u001b[0m                       Traceback (most recent call last)",
      "\u001b[1;32mc:\\Users\\junun\\OneDrive\\document\\datasince\\chap5\\pratice-1.ipynb Cell 1\u001b[0m in \u001b[0;36m<cell line: 7>\u001b[1;34m()\u001b[0m\n\u001b[0;32m      <a href='vscode-notebook-cell:/c%3A/Users/junun/OneDrive/document/datasince/chap5/pratice-1.ipynb#W0sZmlsZQ%3D%3D?line=0'>1</a>\u001b[0m \u001b[39m\"\"\"\u001b[39;00m\n\u001b[0;32m      <a href='vscode-notebook-cell:/c%3A/Users/junun/OneDrive/document/datasince/chap5/pratice-1.ipynb#W0sZmlsZQ%3D%3D?line=1'>2</a>\u001b[0m \u001b[39m4장의 실습예제에서 상용했던 광역시도별 인구 데이터'population.csv'에 대한 분석을 참고하여 다음 물음에 답하시오.\u001b[39;00m\n\u001b[0;32m      <a href='vscode-notebook-cell:/c%3A/Users/junun/OneDrive/document/datasince/chap5/pratice-1.ipynb#W0sZmlsZQ%3D%3D?line=2'>3</a>\u001b[0m \u001b[39m1) 지역별 인구의 히스토그램을 나타내고, 지역별 인구의 평균과 중앙값의 비교 결과에서 얻었던 시사점과 연관지어 설명하시오.\u001b[39;00m\n\u001b[0;32m      <a href='vscode-notebook-cell:/c%3A/Users/junun/OneDrive/document/datasince/chap5/pratice-1.ipynb#W0sZmlsZQ%3D%3D?line=3'>4</a>\u001b[0m \u001b[39m2) 지역별 남녀비율의 히스토그램을 나타내고, 남녀비율의 평균과 중앙값의 비교 결과에서 얻었던 시사점과 연관지어 설명하시오\u001b[39;00m\n\u001b[0;32m      <a href='vscode-notebook-cell:/c%3A/Users/junun/OneDrive/document/datasince/chap5/pratice-1.ipynb#W0sZmlsZQ%3D%3D?line=4'>5</a>\u001b[0m \n\u001b[0;32m      <a href='vscode-notebook-cell:/c%3A/Users/junun/OneDrive/document/datasince/chap5/pratice-1.ipynb#W0sZmlsZQ%3D%3D?line=5'>6</a>\u001b[0m \u001b[39m\"\"\"\u001b[39;00m\n\u001b[1;32m----> <a href='vscode-notebook-cell:/c%3A/Users/junun/OneDrive/document/datasince/chap5/pratice-1.ipynb#W0sZmlsZQ%3D%3D?line=6'>7</a>\u001b[0m \u001b[39mimport\u001b[39;00m \u001b[39mpandas\u001b[39;00m \u001b[39mas\u001b[39;00m \u001b[39mpd\u001b[39;00m\n\u001b[0;32m      <a href='vscode-notebook-cell:/c%3A/Users/junun/OneDrive/document/datasince/chap5/pratice-1.ipynb#W0sZmlsZQ%3D%3D?line=7'>8</a>\u001b[0m \u001b[39mimport\u001b[39;00m \u001b[39mmatplotlib\u001b[39;00m \u001b[39mas\u001b[39;00m \u001b[39mplt\u001b[39;00m\n\u001b[0;32m      <a href='vscode-notebook-cell:/c%3A/Users/junun/OneDrive/document/datasince/chap5/pratice-1.ipynb#W0sZmlsZQ%3D%3D?line=8'>9</a>\u001b[0m data\u001b[39m=\u001b[39m pd\u001b[39m.\u001b[39mread_csv(\u001b[39m'\u001b[39m\u001b[39mpopulation.csv\u001b[39m\u001b[39m'\u001b[39m)\n",
      "\u001b[1;31mModuleNotFoundError\u001b[0m: No module named 'pandas'"
     ]
    }
   ],
   "source": [
    "\"\"\"\n",
    "4장의 실습예제에서 상용했던 광역시도별 인구 데이터'population.csv'에 대한 분석을 참고하여 다음 물음에 답하시오.\n",
    "1) 지역별 인구의 히스토그램을 나타내고, 지역별 인구의 평균과 중앙값의 비교 결과에서 얻었던 시사점과 연관지어 설명하시오.\n",
    "2) 지역별 남녀비율의 히스토그램을 나타내고, 남녀비율의 평균과 중앙값의 비교 결과에서 얻었던 시사점과 연관지어 설명하시오\n",
    "\n",
    "\"\"\"\n",
    "import pandas as pd\n",
    "import matplotlib as plt\n",
    "data= pd.read_csv('population.csv')\n"
   ]
  }
 ],
 "metadata": {
  "kernelspec": {
   "display_name": "juneon",
   "language": "python",
   "name": "python3"
  },
  "language_info": {
   "codemirror_mode": {
    "name": "ipython",
    "version": 3
   },
   "file_extension": ".py",
   "mimetype": "text/x-python",
   "name": "python",
   "nbconvert_exporter": "python",
   "pygments_lexer": "ipython3",
   "version": "3.8.16"
  },
  "orig_nbformat": 4
 },
 "nbformat": 4,
 "nbformat_minor": 2
}
