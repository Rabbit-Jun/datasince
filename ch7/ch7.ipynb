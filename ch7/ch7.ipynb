{
 "cells": [
  {
   "attachments": {},
   "cell_type": "markdown",
   "metadata": {},
   "source": [
    "positive인 줄 알았는데 negative -> 1종 오류\n",
    "negative인줄 알았는데 positive -> 2종 오류\n",
    "어떤 예측 모델의 실제값 대비 예측값의 정오 유형별 횟수를 정리하여 나타낸 표를 혼동행렬이라고 한다.\n"
   ]
  },
  {
   "cell_type": "code",
   "execution_count": 1,
   "metadata": {},
   "outputs": [
    {
     "name": "stdout",
     "output_type": "stream",
     "text": [
      "[[4 2]\n",
      " [1 3]]\n"
     ]
    }
   ],
   "source": [
    "from sklearn.metrics import confusion_matrix #이 기능은 실제값과 예측값 리스트로부터 혼동행렬을 계산해준다\n",
    "y_true = [0,0,0,0,1,1,1,0,0,1] #실제값\n",
    "y_pred =[0,0,0,1,1,1,0,0,1,1] #예측값\n",
    "print(confusion_matrix(y_true, y_pred)) #정답이 x이고 예측값이 x인거 4개 정답이 x인데 예측값이 o인개 2개 정답이 o인데 예측값이 x인게 1개 정답이 o인데 예측값이 o인게 3개( 0=false, 1=true)\n",
    "\n"
   ]
  },
  {
   "attachments": {},
   "cell_type": "markdown",
   "metadata": {},
   "source": [
    "TP (true positve) positive라 예측 했는데 맞음\n",
    "TN (true negative) negative라 예측 했는데 맞음\n",
    "FP (flase positive)positive라 예측 했는데 틀림\n",
    "FN (flase negative)negative라 예측 했는데 틀림\n",
    "\n",
    "정확도는 쉽게 말해서 ox점수로 예측한 총 개수 대비 맞은 것의 개수\n",
    "y_true = [0,0,0,0,1,1,1,0,0,1] #실제값\n",
    "y_pred =[0,0,0,1,1,1,0,0,1,1] #예측값\n",
    "는 총 10개 중 7개 맞았으니 정확도가 70%임\n",
    "정확도=(TP+TF)/(TP+TN+FP+FN)\n",
    "\n",
    "예측해야하는 값이 희소한 경우, 즉 positive가 전체 negative중에서 아주 일부분만 존재하는 경우 형편없는 모델도 좋아 보이게 됨\n",
    "정확도가 의미 있는 값이 될려면 positive와 negative의 비율이 비슷해야 한다\n",
    "\n",
    "정밀도는 모델에 의해 검출된 결과가 얼마나 정확한지를 측정하는 지표, 즉 모델이 '예'라고 에측했을 때  이 중에서  정답인 비율이다.\n",
    "정밀도=TP/(TP+FP)\n",
    "정밀도가 높다는건 positive로 검출된 결과에 오류가 적다는 것을 의미, 즉 1종 오류가 낮다는 뜻\n",
    "\n",
    "재현율은 모델이 실제값이 positive인 값들 중에서 예측값이 positive인게 몇 퍼센트인지 검출했는지를 보여주는 지표\n",
    "재현율 = TP/(TP+FN)\n",
    "재현율이 높다는 것은 2종오류가 낮다는 뜻"
   ]
  }
 ],
 "metadata": {
  "kernelspec": {
   "display_name": "juneon",
   "language": "python",
   "name": "python3"
  },
  "language_info": {
   "codemirror_mode": {
    "name": "ipython",
    "version": 3
   },
   "file_extension": ".py",
   "mimetype": "text/x-python",
   "name": "python",
   "nbconvert_exporter": "python",
   "pygments_lexer": "ipython3",
   "version": "3.8.16"
  },
  "orig_nbformat": 4
 },
 "nbformat": 4,
 "nbformat_minor": 2
}
